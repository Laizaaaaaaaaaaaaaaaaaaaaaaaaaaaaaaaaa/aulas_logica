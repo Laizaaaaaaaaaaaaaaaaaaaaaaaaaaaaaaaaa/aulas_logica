{
 "cells": [
  {
   "cell_type": "markdown",
   "metadata": {},
   "source": [
    "# EXERCÍCIOS 00\n",
    "\n"
   ]
  },
  {
   "cell_type": "code",
   "execution_count": 1,
   "metadata": {},
   "outputs": [
    {
     "name": "stdout",
     "output_type": "stream",
     "text": [
      "55\n"
     ]
    }
   ],
   "source": [
    "# EXERCÍCIOS 01\n",
    "print ( 10 + 45 )\n"
   ]
  },
  {
   "cell_type": "code",
   "execution_count": 5,
   "metadata": {},
   "outputs": [
    {
     "name": "stdout",
     "output_type": "stream",
     "text": [
      "O sucessor de 500 é: 501\n",
      "O antecessor de 500 é 499\n"
     ]
    }
   ],
   "source": [
    "# EXERCÍCIOS 02\n",
    "\n",
    "#Função para ler um numero \n",
    "numero = float(input(\"Digite um  numero: \"))\n",
    "\n",
    "#Função para mostrar seu sucessor e antecessor \n",
    "numero = 500\n",
    "print(\"O sucessor de\", numero, \"é:\", numero + 1)\n",
    "print(\"O antecessor de\", numero, \"é\", numero - 1)\n",
    "\n"
   ]
  },
  {
   "cell_type": "code",
   "execution_count": 3,
   "metadata": {},
   "outputs": [
    {
     "name": "stdout",
     "output_type": "stream",
     "text": [
      "(4, 6, 1.4142135623730951)\n"
     ]
    }
   ],
   "source": [
    "# EXERCÍCIOS 03\n",
    "numero = 2 \n",
    "resultado = numero * 2, numero * 3, numero ** 0.5\n",
    "print(resultado)"
   ]
  },
  {
   "cell_type": "code",
   "execution_count": 4,
   "metadata": {},
   "outputs": [
    {
     "name": "stdout",
     "output_type": "stream",
     "text": [
      "7.5\n"
     ]
    }
   ],
   "source": [
    "# EXERCÍCIOS 04 \n",
    "nota1 = float(input('qual a primeira nota '))\n",
    "nota2 = float(input('qual a segunda nota '))\n",
    "soma = nota1 + nota2 \n",
    "resultado = soma / 2 \n",
    "print(resultado )\n",
    "\n",
    "\n"
   ]
  },
  {
   "cell_type": "code",
   "execution_count": 6,
   "metadata": {},
   "outputs": [
    {
     "name": "stdout",
     "output_type": "stream",
     "text": [
      "(10000.0, 100000.0)\n"
     ]
    }
   ],
   "source": [
    "# EXERCÍCIO 5\n",
    "metros = float(input('qual a primeira nota'))\n",
    "resultado = metros * 100, metros * 1000\n",
    "print(resultado)"
   ]
  },
  {
   "cell_type": "code",
   "execution_count": 8,
   "metadata": {},
   "outputs": [
    {
     "name": "stdout",
     "output_type": "stream",
     "text": [
      "5 x 1 = 5\n",
      "5 x 2 = 10\n",
      "5 x 3 = 15\n",
      "5 x 4 = 20\n",
      "5 x 5 = 25\n",
      "5 x 6 = 30\n",
      "5 x 7 = 35\n",
      "5 x 8 = 40\n",
      "5 x 9 = 45\n",
      "5 x 10 = 50\n"
     ]
    }
   ],
   "source": [
    "# EXERCÍCIO 6 \n",
    "numero = int(input('digite um numero'))\n",
    "for i in range (1, 11):\n",
    " print(f'{numero} x {i} = {numero*i}')\n"
   ]
  },
  {
   "cell_type": "code",
   "execution_count": 1,
   "metadata": {},
   "outputs": [
    {
     "name": "stdout",
     "output_type": "stream",
     "text": [
      "Voce tem $ 2.00\n"
     ]
    }
   ],
   "source": [
    "# EXERCÍCIO 7\n",
    "real = float(input('Digite o valor em R$'))\n",
    "dolar = real / 4.99\n",
    "print(f'Voce tem $ {dolar:.2f}')"
   ]
  },
  {
   "cell_type": "code",
   "execution_count": 9,
   "metadata": {},
   "outputs": [
    {
     "name": "stdout",
     "output_type": "stream",
     "text": [
      "para pintar uma area de 200.0 m², preciso de 100.0 1\n"
     ]
    }
   ],
   "source": [
    "# EXERCÍCIO 8\n",
    "altura = float(input('Digite a altura'))\n",
    "largura = float(input('Digite a largura'))\n",
    "area = altura * largura \n",
    "litros = area / 2\n",
    "print (f'para pintar uma area de {area} m², preciso de {litros} 1')\n"
   ]
  },
  {
   "cell_type": "code",
   "execution_count": 10,
   "metadata": {},
   "outputs": [
    {
     "name": "stdout",
     "output_type": "stream",
     "text": [
      "45.0\n"
     ]
    }
   ],
   "source": [
    "# EXERCÍCIO 9\n",
    "valor =  float(input('Digite o valor:'))\n",
    "desconto = 5 \n",
    "valor = valor - desconto \n",
    "print (valor)"
   ]
  },
  {
   "cell_type": "code",
   "execution_count": 11,
   "metadata": {},
   "outputs": [
    {
     "name": "stdout",
     "output_type": "stream",
     "text": [
      "2300.0\n"
     ]
    }
   ],
   "source": [
    "# EXERCÍCIO 10\n",
    "salario = float(input('Digite o salario'))\n",
    "aumento = (salario / 100 ) * 15\n",
    "salario = salario + aumento \n",
    "print (salario)"
   ]
  },
  {
   "cell_type": "code",
   "execution_count": 12,
   "metadata": {},
   "outputs": [
    {
     "name": "stdout",
     "output_type": "stream",
     "text": [
      "30.0ºC é igual a 86.0ºF \n"
     ]
    }
   ],
   "source": [
    "#EXERCÍCIO 11\n",
    "graus = float(input('Digite a temperatura em ºC'))\n",
    "valor = graus * 1.8 + 32\n",
    "print (f'{graus}ºC é igual a {valor}ºF ')"
   ]
  },
  {
   "cell_type": "code",
   "execution_count": 13,
   "metadata": {},
   "outputs": [
    {
     "name": "stdout",
     "output_type": "stream",
     "text": [
      "o valor total será R$  127.50\n"
     ]
    }
   ],
   "source": [
    "# EXERCÍCIO 12\n",
    "km_percorrido = float(input('Digite o km percorrido:'))\n",
    "dias = int(input('Digite a quantidade de dias: '))\n",
    "pagar = (60 * dias) + (0.15 * km_percorrido)\n",
    "print (f'o valor total será R$ {pagar: .2f}')\n"
   ]
  }
 ],
 "metadata": {
  "kernelspec": {
   "display_name": "Python 3",
   "language": "python",
   "name": "python3"
  },
  "language_info": {
   "codemirror_mode": {
    "name": "ipython",
    "version": 3
   },
   "file_extension": ".py",
   "mimetype": "text/x-python",
   "name": "python",
   "nbconvert_exporter": "python",
   "pygments_lexer": "ipython3",
   "version": "3.12.2"
  }
 },
 "nbformat": 4,
 "nbformat_minor": 2
}
