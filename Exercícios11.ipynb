{
 "cells": [
  {
   "cell_type": "markdown",
   "metadata": {},
   "source": [
    "Exercícios de Revisão "
   ]
  },
  {
   "cell_type": "code",
   "execution_count": null,
   "metadata": {},
   "outputs": [],
   "source": [
    "1. Faça um Programa que mostre a mensagem \"Seja Bem-Vindo ao SESI 😎\" na tela."
   ]
  },
  {
   "cell_type": "code",
   "execution_count": 1,
   "metadata": {},
   "outputs": [
    {
     "data": {
      "text/plain": [
       "'seja bem vindo'"
      ]
     },
     "execution_count": 1,
     "metadata": {},
     "output_type": "execute_result"
    }
   ],
   "source": [
    "input('Seja Bem-vindo ao SESI 😎')"
   ]
  },
  {
   "cell_type": "code",
   "execution_count": null,
   "metadata": {},
   "outputs": [],
   "source": [
    "2. Faça um Programa que peça um número e então mostre a mensagem “O número\n",
    "informado foi [número]”."
   ]
  },
  {
   "cell_type": "code",
   "execution_count": 2,
   "metadata": {},
   "outputs": [],
   "source": [
    "print = input ('Qual seu numero')"
   ]
  },
  {
   "cell_type": "code",
   "execution_count": null,
   "metadata": {},
   "outputs": [],
   "source": [
    "3. Faça um programa que receba 2 números inteiros e exiba a divisão entre eles"
   ]
  },
  {
   "cell_type": "code",
   "execution_count": 1,
   "metadata": {},
   "outputs": [
    {
     "name": "stdout",
     "output_type": "stream",
     "text": [
      "0.8571428571428571\n"
     ]
    }
   ],
   "source": [
    "n1 = int(input('digite um numero:'))\n",
    "n2 = int(input('digite o segundo numero:'))\n",
    "divisao = n1 / n2\n",
    "print(divisao)"
   ]
  },
  {
   "cell_type": "code",
   "execution_count": null,
   "metadata": {},
   "outputs": [],
   "source": [
    "4. Faça um Programa que pergunte quanto você ganha por hora e o número de horas\n",
    "trabalhadas no mês. Calcule e mostre o total do seu salário no referido mês."
   ]
  },
  {
   "cell_type": "code",
   "execution_count": 2,
   "metadata": {},
   "outputs": [
    {
     "name": "stdout",
     "output_type": "stream",
     "text": [
      "100000.0\n"
     ]
    }
   ],
   "source": [
    "ganhaoque = float(input('Quando você ganha por programa'))\n",
    "pormestrabalha = 200\n",
    "salario = pormestrabalha*ganhaoque\n",
    "print(f\"{salario}\")"
   ]
  },
  {
   "cell_type": "code",
   "execution_count": null,
   "metadata": {},
   "outputs": [],
   "source": [
    "5. Faça um Programa que verifique se uma letra digitada é \"F\" ou \"M\". Conforme a letra\n",
    "escrever: F - Feminino, M - Masculino, Sexo Inválido."
   ]
  },
  {
   "cell_type": "code",
   "execution_count": 9,
   "metadata": {},
   "outputs": [
    {
     "name": "stdout",
     "output_type": "stream",
     "text": [
      "Você é o que\n"
     ]
    }
   ],
   "source": [
    "sexo = input('Qual seu sexo')\n",
    "if sexo == \"m\":\n",
    "        print('masculino')\n",
    "elif sexo == 'f':\n",
    "        print('mulher')\n",
    "else :\n",
    "        print('Você é o que')"
   ]
  },
  {
   "cell_type": "code",
   "execution_count": null,
   "metadata": {},
   "outputs": [],
   "source": [
    "6. Tendo como dado de entrada a altura (h) de uma pessoa e o sexo, construa um algoritmo\n",
    "que calcule seu peso ideal, utilizando as seguintes fórmulas:"
   ]
  },
  {
   "cell_type": "code",
   "execution_count": 10,
   "metadata": {},
   "outputs": [],
   "source": [
    "sexo = input ('Qual seu sexo?')\n",
    "if sexo == \"m\":\n",
    "    print('masculino')\n",
    "    h = float(input('sua altura'))\n",
    "    total = 72.7*h-58\n",
    "    print(total)\n",
    "elif sexo == 'f':\n",
    "    print('mulher')\n",
    "    h2 = float(input('sua altura'))\n",
    "    labot = 61.1*h2-44.7\n",
    "    print(labot)"
   ]
  },
  {
   "cell_type": "code",
   "execution_count": null,
   "metadata": {},
   "outputs": [],
   "source": [
    "7. Faça um Programa que pergunte quanto você ganha por hora e o número de horas\n",
    "trabalhadas no mês.\n",
    "Calcule e mostre o total do seu salário no referido mês, sabendo-se que são descontados\n",
    "11% para o Imposto de Renda, 8% para o INSS e 5% para o sindicato, faça um programa\n",
    "que nos dê: salário bruto. quanto pagou ao INSS. quanto pagou ao sindicato. o salário\n",
    "líquido. calcule os descontos e o salário líquido, conforme a tabela abaixo:\n",
    "+ Salário Bruto : R$\n",
    "- IR (11%) : R$\n",
    "- INSS (8%) : R$\n",
    "- Sindicato ( 5%) : R$\n",
    "= Salário Liquido : R$\n",
    "Obs.: Salário Bruto - Descontos = Salário Líquido."
   ]
  },
  {
   "cell_type": "code",
   "execution_count": 12,
   "metadata": {},
   "outputs": [
    {
     "name": "stdout",
     "output_type": "stream",
     "text": [
      "400000.0\n",
      "Seu salario bruto era de 400000.0 teve que tirar 44000.0 mais 32000.0 e tambem 20000.0\n",
      "tendo como total de 348000.0\n"
     ]
    }
   ],
   "source": [
    "s = float (input('Qual seu dinheiro'))\n",
    "mes = 200\n",
    "salario_bruto = mes*s\n",
    "print(salario_bruto)\n",
    "ir = salario_bruto*0.11\n",
    "inss = salario_bruto*0.08\n",
    "sindicato = salario_bruto*0.05\n",
    "print(f'Seu salario bruto era de {salario_bruto} teve que tirar {ir} mais {inss} e tambem {sindicato}')\n",
    "print(f'tendo como total de {salario_bruto - inss - sindicato}')"
   ]
  },
  {
   "cell_type": "code",
   "execution_count": null,
   "metadata": {},
   "outputs": [],
   "source": [
    "8. Faça uma função que peça um valor e mostre na tela se o valor é positivo ou negativo."
   ]
  },
  {
   "cell_type": "code",
   "execution_count": 11,
   "metadata": {},
   "outputs": [
    {
     "name": "stdout",
     "output_type": "stream",
     "text": [
      "positivo\n"
     ]
    }
   ],
   "source": [
    "n1 = float(input('Qual seu numero'))\n",
    "if n1<0:\n",
    "    print('negativo')\n",
    "else:\n",
    "    print('positivo')"
   ]
  },
  {
   "cell_type": "code",
   "execution_count": null,
   "metadata": {},
   "outputs": [],
   "source": [
    "9. Faça uma função que imprima na tela apenas os números ímpares entre 1 e 50."
   ]
  },
  {
   "cell_type": "code",
   "execution_count": 13,
   "metadata": {},
   "outputs": [
    {
     "name": "stdout",
     "output_type": "stream",
     "text": [
      "O numero 1 é impar \n",
      "O numero 3 é impar \n",
      "O numero 5 é impar \n",
      "O numero 7 é impar \n",
      "O numero 9 é impar \n",
      "O numero 11 é impar \n",
      "O numero 13 é impar \n",
      "O numero 15 é impar \n",
      "O numero 17 é impar \n",
      "O numero 19 é impar \n",
      "O numero 21 é impar \n",
      "O numero 23 é impar \n",
      "O numero 25 é impar \n",
      "O numero 27 é impar \n",
      "O numero 29 é impar \n",
      "O numero 31 é impar \n",
      "O numero 33 é impar \n",
      "O numero 35 é impar \n",
      "O numero 37 é impar \n",
      "O numero 39 é impar \n",
      "O numero 41 é impar \n",
      "O numero 43 é impar \n",
      "O numero 45 é impar \n",
      "O numero 47 é impar \n",
      "O numero 49 é impar \n"
     ]
    }
   ],
   "source": [
    "x = 1 \n",
    "while x <= 50:\n",
    "    if x % 2 !=0:\n",
    "        print(f'O numero {x} é impar ')\n",
    "    x = x + 1"
   ]
  },
  {
   "cell_type": "code",
   "execution_count": null,
   "metadata": {},
   "outputs": [],
   "source": [
    "10. Faça uma função que receba dois números inteiros e gere os números inteiros que estão\n",
    "no intervalo compreendido por eles."
   ]
  },
  {
   "cell_type": "code",
   "execution_count": 15,
   "metadata": {},
   "outputs": [
    {
     "name": "stdout",
     "output_type": "stream",
     "text": [
      "10\n",
      "11\n",
      "12\n",
      "13\n",
      "14\n"
     ]
    }
   ],
   "source": [
    "n1 = int(input(\"Qual o seu numero \"))\n",
    "n2 = int(input(\"Qual o seu numero\"))\n",
    "for x in range (n1,n2):\n",
    "    print(x)\n",
    "    "
   ]
  },
  {
   "cell_type": "code",
   "execution_count": null,
   "metadata": {},
   "outputs": [],
   "source": [
    "11. Faça uma função que peça um número positivo e em seguida mostre este número invertido.\n",
    "Exemplo: 12376489 => 98467321"
   ]
  },
  {
   "cell_type": "code",
   "execution_count": 16,
   "metadata": {},
   "outputs": [
    {
     "name": "stdout",
     "output_type": "stream",
     "text": [
      "otiocsib\n"
     ]
    }
   ],
   "source": [
    "palavra = input('Digite algo')\n",
    "nova_palavra = ''\n",
    "for letra in palavra :\n",
    "    nova_palavra = letra + nova_palavra\n",
    "print(nova_palavra)"
   ]
  },
  {
   "cell_type": "code",
   "execution_count": null,
   "metadata": {},
   "outputs": [],
   "source": [
    "12. Faça um Programa que leia um vetor A com 5 números inteiros, calcule e mostre a soma\n",
    "dos quadrados dos elementos do vetor."
   ]
  },
  {
   "cell_type": "code",
   "execution_count": null,
   "metadata": {},
   "outputs": [],
   "source": [
    "nume = []\n",
    "soma = 0\n",
    "def numero (): \n",
    " n1 = int(input('digite um numero'))**2\n",
    " nume.append(n1)\n",
    " global soma\n",
    " soma = n1 + soma\n",
    "numero ()\n",
    "numero ()\n",
    "numero ()\n",
    "numero ()\n",
    "numero ()\n",
    "print(soma)"
   ]
  },
  {
   "cell_type": "code",
   "execution_count": null,
   "metadata": {},
   "outputs": [],
   "source": [
    "13. Faça um Programa que leia 8 números inteiros e armazene-os num vetor. Armazene os\n",
    "números pares no vetor PAR e os números IMPARES no vetor impar. Imprima os três\n",
    "vetores."
   ]
  },
  {
   "cell_type": "code",
   "execution_count": null,
   "metadata": {},
   "outputs": [],
   "source": [
    "numeros = []\n",
    "par = []\n",
    "impar = []\n",
    "for x in range(8):\n",
    "    numero = int(input('Digite um número inteiro'))\n",
    "    numeros.append(numero)\n",
    "    if numero % 2 == 0:\n",
    "        par.append(numero)\n",
    "    elif numero %2 != 0:\n",
    "        impar.append(numero)\n",
    "print (numeros)\n",
    "print (par)\n",
    "print (impar)"
   ]
  }
 ],
 "metadata": {
  "kernelspec": {
   "display_name": "Python 3",
   "language": "python",
   "name": "python3"
  },
  "language_info": {
   "codemirror_mode": {
    "name": "ipython",
    "version": 3
   },
   "file_extension": ".py",
   "mimetype": "text/x-python",
   "name": "python",
   "nbconvert_exporter": "python",
   "pygments_lexer": "ipython3",
   "version": "3.11.9"
  }
 },
 "nbformat": 4,
 "nbformat_minor": 2
}
