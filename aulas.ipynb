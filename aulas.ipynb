{
 "cells": [
  {
   "cell_type": "markdown",
   "metadata": {},
   "source": [
    "aula 15/02/2024 - \n",
    "Comandos de saída (input)/\n",
    "Tipos de dados (string, int, float, bool)/\n",
    "Operações aritméticas (+ - * / % **)"
   ]
  },
  {
   "cell_type": "code",
   "execution_count": 9,
   "metadata": {},
   "outputs": [
    {
     "name": "stdout",
     "output_type": "stream",
     "text": [
      "Meu primeiro código em python. Usando aspas duplas\n",
      "Meu primeiro código em python. Usando aspas duplas\n",
      "Olá, Mundo!\n",
      "Para duplicar uma linha pressionei shift + alt + seta para baixo\n",
      "123\n",
      "70.5\n",
      "True\n",
      "Sesi\n",
      "14\n",
      "86\n",
      "string 10 70 5 False\n",
      "60\n",
      "54\n",
      "1316223135288\n",
      "1609.0\n",
      "1\n",
      "27\n",
      "11.0\n"
     ]
    }
   ],
   "source": [
    "#a função print serve para exibir na tela alguma mensagem\n",
    "print(\"Meu primeiro código em python. Usando aspas duplas\")\n",
    "print(\"Meu primeiro código em python. Usando aspas duplas\")\n",
    "print('Olá, Mundo!')\n",
    "print('Para duplicar uma linha pressionei shift + alt + seta para baixo')\n",
    "print(123) #Estou exibindo um número inteiro, por isso, não precisa da \"\"\n",
    "print(70.5) #Número float\n",
    "print(True) #Campo lógico (Verdadeiro ou falso) (True ou false)\n",
    "print(\"Sesi\") #Tipo string\n",
    "print(8 +6)\n",
    "print('8' + '6')\n",
    "#Possui imprimir várias informações ao mesmo tempo separando-as por , \n",
    "print('string' , 10, 70,5, False)\n",
    "\n",
    "print( 10 + 50) # + é o operador de SOMA (número inteiro ou decimal)\n",
    "print( 67 - 13) # - é o operador de SUBTRAÇÃO (nº inteiro ou decimal)\n",
    "print( 4214328 * 312321) # * é o operador de MULTIPLICAÇÃO\n",
    "print( 4827 / 3) # / é o operador de DIVISÃO\n",
    "print( 31 % 2) # % é o operador de DIVISÃO (MÓDULO)\n",
    "print(3 ** 3) # ** é o operador de exponenciação 3³\n",
    "print( 8 + 6 / 2) # O parênteses define a maior ordem de precedência \n",
    "\n"
   ]
  },
  {
   "cell_type": "markdown",
   "metadata": {},
   "source": [
    "aula 22/02/2024 - Comandos de entrada (input) / Variáveis / Pseudocódigo \n"
   ]
  },
  {
   "cell_type": "code",
   "execution_count": null,
   "metadata": {},
   "outputs": [],
   "source": [
    "#Declarando minha primeira variável \n",
    "#lemos da seguinte forma: \n",
    "#variável curso recebe(=) a string \"Desenvolvimento de Sistemas\"\n",
    "#Receba/Armazene o texto \"Desenvolvimento de Sistemas\"\n",
    "curso = \"Desenvolvimento de Sistemas\"\n",
    "#Exiba o valor armazenado \n",
    "print(\"curso\")   # Para imprimir uma variável não se coloca entre \" \"\n",
    "print(curso)     #Jeito correto de usar uma variável \n",
    "print(\"curso\", curso)\n",
    "\n",
    "#Criando e atribuindo uma variável \n",
    "idade = 16\n",
    "temperatura = 23.5 \n",
    "nome = \"Laiza\"\n",
    "#Exiba o valor das 3 variáveis \n",
    "print(\"olá\", nome,   \"você tem\", idade, \"anos, hoje está fazendo\", temperatura , \"°C\")\n",
    "\n",
    "#declarando variáveis lógicas, recebe apenas True ou False\n",
    "chovendo = False\n",
    "dia = True\n",
    "\n",
    "# Nesta linha abaixo ocorrerá um erro pois não existe uma variável com o nome salário,\n",
    "#Então não consegue encontrar nada para exibir\n",
    "#NameError: name 'salário' is not defined \n",
    "#Print ('Salário', salário)\n",
    "\n",
    "#Declaramos uma constante, diferentemente da variável que posso alterar o valor na constante não é permitido, \n",
    "#Declaramos com o nome todo em minúsculo \n",
    "PI = 3.1415\n",
    "\n",
    "\n",
    "#Passo 1: Receber o nome da pessoa\n",
    "#No input sempre recebemos uma string\n",
    "nome = input ('Qual é o seu nome?')\n",
    "#Passo 2: Receber a idade da pessoa \n",
    "#Posso converter essa string recebida do tipo inteiro \n",
    "idade = input ('Qual é a sua idade?')\n",
    "#Passo 3: Receber o peso da pessoa \n",
    "#WPoss receber essa string recebida do tipo float\n",
    "peso = input ('Qual é o seu peso?')\n",
    "#Passo 4: exibir o nome, a idade e o peso \n",
    "print (nome, idade, peso )\n",
    "print(f'Seu nome é {nome}, você tem {idade} anos e pesa {peso}kg')\n",
    "\n",
    "#Exibindo  os tipos de variáveis \n",
    "#Tudo o que recebemos do input é do tipo string\n",
    "print(type(nome),type(idade), type(peso) )"
   ]
  },
  {
   "cell_type": "markdown",
   "metadata": {},
   "source": [
    "23/02/2024 - Operações com variáveis "
   ]
  },
  {
   "cell_type": "code",
   "execution_count": null,
   "metadata": {},
   "outputs": [],
   "source": [
    "#Receber o primeiro número \n",
    "número1 = float(input('Digite o primeiro numero: ') )\n",
    "#Receber o segundo número \n",
    "número2 = float(input('Digite o segundo numero ') )\n",
    "#Receber o terceiro número \n",
    "número3 = float(input ('Digite o terceiro número: '))\n",
    "#Soma o primeiro número + o segundo número + o terceiro número \n",
    "soma = número1 + número2 + número3\n",
    "#Exibir o resultado \n",
    "print(type(soma))\n",
    "print(soma)"
   ]
  },
  {
   "cell_type": "code",
   "execution_count": 1,
   "metadata": {},
   "outputs": [
    {
     "name": "stdout",
     "output_type": "stream",
     "text": [
      "2.0\n"
     ]
    }
   ],
   "source": [
    "n1 = float(input('Digite o primeiro número: '))\n",
    "n2 = float(input('Digite o segundo número: '))\n",
    "resultado = n1 * n2 \n",
    "print (resultado)\n",
    "\n"
   ]
  },
  {
   "cell_type": "code",
   "execution_count": 1,
   "metadata": {},
   "outputs": [
    {
     "name": "stdout",
     "output_type": "stream",
     "text": [
      "1980.0\n",
      "Voce obteve R$ 20.0, e pague R$ 1980.0\n"
     ]
    }
   ],
   "source": [
    "preco = float(input('Qual o valor do celular?'))\n",
    "desconto = float(input('Qual o valor do desconto?'))\n",
    "preco = preco - desconto \n",
    "print (preco)\n",
    "print(f'Voce obteve R$ {desconto}, e pague R$ {preco}')"
   ]
  },
  {
   "cell_type": "code",
   "execution_count": 2,
   "metadata": {},
   "outputs": [
    {
     "name": "stdout",
     "output_type": "stream",
     "text": [
      "2.0\n",
      "4.0\n",
      "120.0\n",
      "O valor final é 120.0\n"
     ]
    }
   ],
   "source": [
    "numero = 4 / 2\n",
    "print (numero)\n",
    "numero = numero ** 2\n",
    "print (numero)\n",
    "numero = numero * (50 - 20)\n",
    "print (numero)\n",
    "print (f'O valor final é {numero}')"
   ]
  },
  {
   "cell_type": "code",
   "execution_count": null,
   "metadata": {},
   "outputs": [],
   "source": [
    "horas_por_dia =\n",
    "dias_totais =\n",
    "horas_trabalho = horas_por_dia * dias_totais \n",
    "custo_hora = 100\n",
    "custo_total = horas_trabalho * custo_hora\n",
    "print(f'Voce deve cobrar R$ {custo_total}')"
   ]
  },
  {
   "cell_type": "markdown",
   "metadata": {},
   "source": [
    "Aula 29/02/2024 - Operadores Relacionais e Estrutura Condicional "
   ]
  },
  {
   "cell_type": "code",
   "execution_count": 1,
   "metadata": {},
   "outputs": [
    {
     "name": "stdout",
     "output_type": "stream",
     "text": [
      "a > b ? False \n",
      "a == b ? False\n",
      "a != b ? True\n",
      "a > 2 ? False\n",
      "a >= 2 ? True\n"
     ]
    }
   ],
   "source": [
    "a = 2\n",
    "b = 3\n",
    "print(f'a > b ? {a > b} ')\n",
    "print(f'a == b ? {a == b}')\n",
    "print(f'a != b ? {a != b}')\n",
    "print(f'a > 2 ? {a > 2}')\n",
    "print(f'a >= 2 ? {a >= 2}')"
   ]
  },
  {
   "cell_type": "code",
   "execution_count": 2,
   "metadata": {},
   "outputs": [
    {
     "name": "stdout",
     "output_type": "stream",
     "text": [
      "Posso entrar \n",
      "fim\n"
     ]
    }
   ],
   "source": [
    "tenho_ingresso = True \n",
    "if tenho_ingresso == True:\n",
    " print('Posso entrar ')\n",
    " print('fim')"
   ]
  },
  {
   "cell_type": "code",
   "execution_count": 3,
   "metadata": {},
   "outputs": [
    {
     "name": "stdout",
     "output_type": "stream",
     "text": [
      "FIM\n"
     ]
    }
   ],
   "source": [
    "# Passo 1: Receber o valor da idade \n",
    "idade = int(input('Qual sua idade?'))\n",
    "# Passo 2: Verificar SE é maior ou igual a 18 ENTÃO\n",
    "if idade >= 18: \n",
    "    # Passo 3: Se for exibir \"Maior idade\"\n",
    "    print('Maior idade')\n",
    "\n",
    "\n",
    "print('FIM')"
   ]
  },
  {
   "cell_type": "code",
   "execution_count": null,
   "metadata": {},
   "outputs": [],
   "source": [
    "tenho_ingresso = True \n",
    "if tenho_ingresso == True:\n",
    "    print('Posso entrar ')\n",
    "else : \n",
    "   print('Vá comprar ') \n",
    "    \n",
    "print('fim')"
   ]
  },
  {
   "cell_type": "markdown",
   "metadata": {},
   "source": [
    "01/03/2024 - Operadores Lógicos e Estrutura Condicional"
   ]
  },
  {
   "cell_type": "code",
   "execution_count": 1,
   "metadata": {},
   "outputs": [
    {
     "name": "stdout",
     "output_type": "stream",
     "text": [
      "False\n",
      "False\n",
      "True\n",
      "True\n"
     ]
    }
   ],
   "source": [
    "a = 2\n",
    "b = 3\n",
    "c = 5\n",
    "\n",
    "#      False e False\n",
    "print( (a > 2) and (b < 2) ) # false \n",
    "#      False ou False\n",
    "print( (a > 2) or (b < 2) ) # false \n",
    "#      False ou True\n",
    "print( (a > 2) or (b < 5) ) # True\n",
    "\n",
    "idade = 18\n",
    "#      False     True\n",
    "print(idade > 18 or idade == 18 ) # True\n",
    "#       idade >= 18\n",
    "\n",
    "\n",
    "\n"
   ]
  },
  {
   "cell_type": "code",
   "execution_count": null,
   "metadata": {},
   "outputs": [],
   "source": [
    "lado1 = input('Digite lado 1: ')\n",
    "lado2 = input('Digite lado 2: ')\n",
    "lado3 = input('Digite lado 3: ')\n"
   ]
  },
  {
   "cell_type": "code",
   "execution_count": 4,
   "metadata": {},
   "outputs": [
    {
     "name": "stdout",
     "output_type": "stream",
     "text": [
      "Peso ideal!\n"
     ]
    }
   ],
   "source": [
    "altura = float(input('Digite sua altura: '))\n",
    "peso = float(input('Digite seu peso: '))\n",
    "imc = peso / (altura ** 2 )\n",
    "if imc < 18.5:\n",
    "    print('Abaixo do peso ideal!')\n",
    "elif imc >= 18.6 and imc <= 24.9:\n",
    "    print('Peso ideal!')\n",
    "elif imc >= 25 and imc <= 29.9: \n",
    "    print('Sobrepeso')\n",
    "else:\n",
    "    print('Obesidade')"
   ]
  },
  {
   "cell_type": "code",
   "execution_count": 5,
   "metadata": {},
   "outputs": [
    {
     "name": "stdout",
     "output_type": "stream",
     "text": [
      "Triângulo Escaleno\n"
     ]
    }
   ],
   "source": [
    "lado1 = input('Digite lado 1:')\n",
    "lado2 = input('Digite lado 2:')\n",
    "lado3 = input('Digite lado 3:')\n",
    "if lado1 == lado2 and lado2 == lado3 :\n",
    "    print ('Triângulo Equilatero')\n",
    "elif lado1 != lado2  and lado2 != lado3  and lado3 != lado1 :\n",
    "    print('Triângulo Escaleno')\n",
    "else:\n",
    "    print('Triângulo Isósceles')"
   ]
  },
  {
   "cell_type": "code",
   "execution_count": 6,
   "metadata": {},
   "outputs": [
    {
     "ename": "SyntaxError",
     "evalue": "invalid syntax (806411659.py, line 2)",
     "output_type": "error",
     "traceback": [
      "\u001b[1;36m  Cell \u001b[1;32mIn[6], line 2\u001b[1;36m\u001b[0m\n\u001b[1;33m    if letra == 'a' or letra == 'e' or letra 'i' or letra == 'o' or letra == 'u':\u001b[0m\n\u001b[1;37m                                             ^\u001b[0m\n\u001b[1;31mSyntaxError\u001b[0m\u001b[1;31m:\u001b[0m invalid syntax\n"
     ]
    }
   ],
   "source": [
    "letra = input(\"Digite uma letra:\")\n",
    "if letra == 'a' or letra == 'e' or letra 'i' or letra == 'o' or letra == 'u':\n",
    "    print(f'a letra {letra} é uma vogal')\n",
    "elif letra == '1' or '2' or '3':\n",
    "    print(f'a letra {letra} é um número')\n",
    "else:\n",
    "    print(f'a letra {letra} não é uma vogal')"
   ]
  },
  {
   "cell_type": "markdown",
   "metadata": {},
   "source": [
    "07/03/24 - Estrutura condicional aninhada/ match case"
   ]
  },
  {
   "cell_type": "code",
   "execution_count": 1,
   "metadata": {},
   "outputs": [
    {
     "name": "stdout",
     "output_type": "stream",
     "text": [
      "Seu voto é facultativo\n"
     ]
    }
   ],
   "source": [
    "idade = int(input('Digite sua idade:'))\n",
    "if idade >= 18 and idade <= 70 :\n",
    "    print('Você é obrigado a votar')\n",
    "else:\n",
    "    if idade < 16:\n",
    "        print ('Você não pode votar')\n",
    "    else: \n",
    "        if idade >= 16 or idade > 70: \n",
    "            print('Seu voto é facultativo')"
   ]
  },
  {
   "cell_type": "code",
   "execution_count": 4,
   "metadata": {},
   "outputs": [
    {
     "ename": "KeyboardInterrupt",
     "evalue": "Interrupted by user",
     "output_type": "error",
     "traceback": [
      "\u001b[1;31m---------------------------------------------------------------------------\u001b[0m",
      "\u001b[1;31mKeyboardInterrupt\u001b[0m                         Traceback (most recent call last)",
      "Cell \u001b[1;32mIn[4], line 1\u001b[0m\n\u001b[1;32m----> 1\u001b[0m valor1 \u001b[38;5;241m=\u001b[39m \u001b[38;5;28mint\u001b[39m(\u001b[38;5;28;43minput\u001b[39;49m\u001b[43m(\u001b[49m\u001b[38;5;124;43m'\u001b[39;49m\u001b[38;5;124;43mDigite um número:\u001b[39;49m\u001b[38;5;124;43m'\u001b[39;49m\u001b[43m)\u001b[49m)\n\u001b[0;32m      2\u001b[0m valor2 \u001b[38;5;241m=\u001b[39m \u001b[38;5;28mint\u001b[39m(\u001b[38;5;28minput\u001b[39m(\u001b[38;5;124m'\u001b[39m\u001b[38;5;124mDigite um número:\u001b[39m\u001b[38;5;124m'\u001b[39m))\n\u001b[0;32m      3\u001b[0m operador \u001b[38;5;241m=\u001b[39m \u001b[38;5;28minput\u001b[39m(\u001b[38;5;124m'\u001b[39m\u001b[38;5;124mDigite uma operação + - * / ** \u001b[39m\u001b[38;5;124m'\u001b[39m)\n",
      "File \u001b[1;32m~\\AppData\\Roaming\\Python\\Python312\\site-packages\\ipykernel\\kernelbase.py:1270\u001b[0m, in \u001b[0;36mKernel.raw_input\u001b[1;34m(self, prompt)\u001b[0m\n\u001b[0;32m   1268\u001b[0m     msg \u001b[38;5;241m=\u001b[39m \u001b[38;5;124m\"\u001b[39m\u001b[38;5;124mraw_input was called, but this frontend does not support input requests.\u001b[39m\u001b[38;5;124m\"\u001b[39m\n\u001b[0;32m   1269\u001b[0m     \u001b[38;5;28;01mraise\u001b[39;00m StdinNotImplementedError(msg)\n\u001b[1;32m-> 1270\u001b[0m \u001b[38;5;28;01mreturn\u001b[39;00m \u001b[38;5;28;43mself\u001b[39;49m\u001b[38;5;241;43m.\u001b[39;49m\u001b[43m_input_request\u001b[49m\u001b[43m(\u001b[49m\n\u001b[0;32m   1271\u001b[0m \u001b[43m    \u001b[49m\u001b[38;5;28;43mstr\u001b[39;49m\u001b[43m(\u001b[49m\u001b[43mprompt\u001b[49m\u001b[43m)\u001b[49m\u001b[43m,\u001b[49m\n\u001b[0;32m   1272\u001b[0m \u001b[43m    \u001b[49m\u001b[38;5;28;43mself\u001b[39;49m\u001b[38;5;241;43m.\u001b[39;49m\u001b[43m_parent_ident\u001b[49m\u001b[43m[\u001b[49m\u001b[38;5;124;43m\"\u001b[39;49m\u001b[38;5;124;43mshell\u001b[39;49m\u001b[38;5;124;43m\"\u001b[39;49m\u001b[43m]\u001b[49m\u001b[43m,\u001b[49m\n\u001b[0;32m   1273\u001b[0m \u001b[43m    \u001b[49m\u001b[38;5;28;43mself\u001b[39;49m\u001b[38;5;241;43m.\u001b[39;49m\u001b[43mget_parent\u001b[49m\u001b[43m(\u001b[49m\u001b[38;5;124;43m\"\u001b[39;49m\u001b[38;5;124;43mshell\u001b[39;49m\u001b[38;5;124;43m\"\u001b[39;49m\u001b[43m)\u001b[49m\u001b[43m,\u001b[49m\n\u001b[0;32m   1274\u001b[0m \u001b[43m    \u001b[49m\u001b[43mpassword\u001b[49m\u001b[38;5;241;43m=\u001b[39;49m\u001b[38;5;28;43;01mFalse\u001b[39;49;00m\u001b[43m,\u001b[49m\n\u001b[0;32m   1275\u001b[0m \u001b[43m\u001b[49m\u001b[43m)\u001b[49m\n",
      "File \u001b[1;32m~\\AppData\\Roaming\\Python\\Python312\\site-packages\\ipykernel\\kernelbase.py:1313\u001b[0m, in \u001b[0;36mKernel._input_request\u001b[1;34m(self, prompt, ident, parent, password)\u001b[0m\n\u001b[0;32m   1310\u001b[0m \u001b[38;5;28;01mexcept\u001b[39;00m \u001b[38;5;167;01mKeyboardInterrupt\u001b[39;00m:\n\u001b[0;32m   1311\u001b[0m     \u001b[38;5;66;03m# re-raise KeyboardInterrupt, to truncate traceback\u001b[39;00m\n\u001b[0;32m   1312\u001b[0m     msg \u001b[38;5;241m=\u001b[39m \u001b[38;5;124m\"\u001b[39m\u001b[38;5;124mInterrupted by user\u001b[39m\u001b[38;5;124m\"\u001b[39m\n\u001b[1;32m-> 1313\u001b[0m     \u001b[38;5;28;01mraise\u001b[39;00m \u001b[38;5;167;01mKeyboardInterrupt\u001b[39;00m(msg) \u001b[38;5;28;01mfrom\u001b[39;00m \u001b[38;5;28;01mNone\u001b[39;00m\n\u001b[0;32m   1314\u001b[0m \u001b[38;5;28;01mexcept\u001b[39;00m \u001b[38;5;167;01mException\u001b[39;00m:\n\u001b[0;32m   1315\u001b[0m     \u001b[38;5;28mself\u001b[39m\u001b[38;5;241m.\u001b[39mlog\u001b[38;5;241m.\u001b[39mwarning(\u001b[38;5;124m\"\u001b[39m\u001b[38;5;124mInvalid Message:\u001b[39m\u001b[38;5;124m\"\u001b[39m, exc_info\u001b[38;5;241m=\u001b[39m\u001b[38;5;28;01mTrue\u001b[39;00m)\n",
      "\u001b[1;31mKeyboardInterrupt\u001b[0m: Interrupted by user"
     ]
    }
   ],
   "source": [
    "valor1 = int(input('Digite um número:'))\n",
    "valor2 = int(input('Digite um número:'))\n",
    "operador = input('Digite uma operação + - * / ** ')\n",
    "match op :\n",
    "    case '+' :\n",
    "        print(f'{n1} + {n2} = {n1+n2}')\n",
    "    case '-' :\n",
    "        print(f'{n1} - {n2} = {n1-n2}')"
   ]
  },
  {
   "cell_type": "markdown",
   "metadata": {},
   "source": [
    "08/03/2024 - Laço de repetição - While"
   ]
  },
  {
   "cell_type": "code",
   "execution_count": 5,
   "metadata": {},
   "outputs": [
    {
     "name": "stdout",
     "output_type": "stream",
     "text": [
      "FIM\n"
     ]
    }
   ],
   "source": [
    "x = 1 \n",
    "while x == 10 : \n",
    "    print('Eu vou prestar atenção na aula' , x)\n",
    "    x = x + 1\n",
    "print('FIM')"
   ]
  },
  {
   "cell_type": "code",
   "execution_count": 8,
   "metadata": {},
   "outputs": [
    {
     "name": "stdout",
     "output_type": "stream",
     "text": [
      "10\n",
      "9\n",
      "8\n",
      "7\n",
      "6\n",
      "5\n",
      "4\n",
      "3\n",
      "2\n",
      "1\n",
      "0\n",
      "Feliz ano novo 🎆\n"
     ]
    }
   ],
   "source": [
    "import time #importando uma biblioteca de tempo \n",
    "x = 10 \n",
    "while x >= 0 : \n",
    "    print(x) \n",
    "    time.sleep(1.5)  #Dando uma pausa de 1s na execução \n",
    "    x = x - 1 \n",
    "print('Feliz ano novo 🎆')"
   ]
  },
  {
   "cell_type": "code",
   "execution_count": 9,
   "metadata": {},
   "outputs": [
    {
     "name": "stdout",
     "output_type": "stream",
     "text": [
      "Seja bem vindo, laiza\n"
     ]
    }
   ],
   "source": [
    "texto = ' '\n",
    "while texto == ' ' :\n",
    "    texto = input('Digite seu nome (\"Sair\" para terminar):')\n",
    "    print(f'Seja bem vindo, {texto}')"
   ]
  },
  {
   "cell_type": "code",
   "execution_count": 11,
   "metadata": {},
   "outputs": [
    {
     "name": "stdout",
     "output_type": "stream",
     "text": [
      "Voce hackeou a Rede\n"
     ]
    }
   ],
   "source": [
    "senha_senai = '12345'\n",
    "nr_tentativa = 0\n",
    "while True: \n",
    "    senha = input('Qual é a senha 😯? \"Desisto\" para sair 🔒')\n",
    "    if senha == senha_senai :\n",
    "        print('Voce hackeou a Rede')\n",
    "        break\n",
    "    elif senha == 'Desisto':\n",
    "        break\n",
    "    else :\n",
    "        nr_tentativa = nr_tentativa + 1 \n",
    "        if nr_tentativa == 3 :\n",
    "            print('Voce esta preso tentando hackear a rede')\n",
    "            break \n",
    "    print('FIM')        "
   ]
  },
  {
   "cell_type": "markdown",
   "metadata": {},
   "source": [
    "21/03/2024 - Revisão de While"
   ]
  },
  {
   "cell_type": "code",
   "execution_count": 1,
   "metadata": {},
   "outputs": [
    {
     "name": "stdout",
     "output_type": "stream",
     "text": [
      "FIM\n"
     ]
    }
   ],
   "source": [
    "resp = 'S'\n",
    "while resp == 'S' :\n",
    "    resp = input ('Deseja continuar? [S/N]')\n",
    "    \n",
    "print('FIM')\n"
   ]
  },
  {
   "cell_type": "code",
   "execution_count": 5,
   "metadata": {},
   "outputs": [
    {
     "name": "stdout",
     "output_type": "stream",
     "text": [
      "Valor total R$ 0.00\n"
     ]
    }
   ],
   "source": [
    "soma = 0\n",
    "while True :\n",
    "    valor = float(input('digite o valor do produto [-1 para encerrar]'))\n",
    "    if valor == -1 :\n",
    "        break \n",
    "    soma = valor + soma\n",
    "    \n",
    "print (f'Valor total R$ {soma:.2f}')\n",
    "qtde = qtde = + 1"
   ]
  },
  {
   "cell_type": "code",
   "execution_count": 10,
   "metadata": {},
   "outputs": [
    {
     "name": "stdout",
     "output_type": "stream",
     "text": [
      "-=-=-=-=-=-=-=-=-=-=-=-=-=-\n",
      "  😎  JOGO DA ADIVINHAÇÃO  😎\n",
      "-=-=-=-=-=-=-=-=-=-=-=-=-=-=\n",
      "Você chutou 3. Parabéns você acertou 👏👏👏\n",
      "FIM\n"
     ]
    }
   ],
   "source": [
    "\n",
    "    print ('FIM')#Importando a biblioteca de números aleatórios \n",
    "import random \n",
    "#Sorteando número de 1 a 100\n",
    "nrSorteado = random.randint(1, 100)\n",
    "\n",
    "print('-=-=-=-=-=-=-=-=-=-=-=-=-=-')\n",
    "print('  😎  JOGO DA ADIVINHAÇÃO  😎')\n",
    "print('-=-=-=-=-=-=-=-=-=-=-=-=-=-=')\n",
    "\n",
    "acertou = False \n",
    "while acertou == False:\n",
    "    chute = int(input('💋 Digite um número entre 1 e 100:'))\n",
    "    if chute == nrSorteado : \n",
    "        print (f'Você chutou {chute}. Parabéns você acertou 👏👏👏')\n",
    "        acertou = True \n",
    "    elif chute > nrSorteado :\n",
    "        print (f'Você chutou {chute}. Tente um número 👇')\n",
    "    else: \n",
    "        print (f'Você chutou {chute}. Tente um número 👆 ')\n",
    "        \n",
    "    print('FIM')"
   ]
  },
  {
   "cell_type": "code",
   "execution_count": null,
   "metadata": {},
   "outputs": [],
   "source": [
    "28/3/2024 - Variáveis Compostas - Vetores / Lisas   "
   ]
  },
  {
   "cell_type": "code",
   "execution_count": 1,
   "metadata": {},
   "outputs": [
    {
     "name": "stdout",
     "output_type": "stream",
     "text": [
      "['maça', 'banana', 'abacaxi', 'uva']\n",
      "banana\n"
     ]
    }
   ],
   "source": [
    "frutas = ['maça', 'banana', 'abacaxi', 'uva']\n",
    "print(frutas) \n",
    "print(frutas[1])\n",
    "\n",
    "# Declaração de uma lista vazia \n",
    "lista_vazia =[] \n",
    "\n",
    "# Declaração de uma lista de números \n",
    "números = [5, 8, 10, 40, 3]\n",
    "\n",
    "# Declaração de uma listra de strings \n",
    "nomes = ['Ana', 'João', 'Maria']\n",
    "\n",
    "# Declaração de uma lista mista \n",
    "lista_mista = [1, \"teste\", True, 3,5]"
   ]
  },
  {
   "cell_type": "code",
   "execution_count": 2,
   "metadata": {},
   "outputs": [
    {
     "name": "stdout",
     "output_type": "stream",
     "text": [
      "['maça', 'banana', 'abacaxi', 'Melancia']\n"
     ]
    }
   ],
   "source": [
    "frutas = ['maça', 'banana', 'abacaxi', 'uva']\n",
    "#Alterando o valor de um item na lista \n",
    "frutas[3] = 'Melancia' \n",
    "print(frutas) \n",
    "#incluindo um novo item no final da lista \n",
    "frutas.append('Laranja')\n",
    "print(futas)\n",
    "\n",
    "# Incluindo um novo item em uma posição específica \n",
    "frutas.insert(2, 'Morango')\n",
    "print('frutas')\n",
    "\n",
    "# Excluindo item da lista pelo índice \n",
    "#del frutas [3]\n",
    "#frutas.pop(3)\n",
    "frutas.remove('Abacaxi')\n",
    "#Excluindo ultimo item da lista \n",
    "frutas.pop()\n",
    "print(frutas)"
   ]
  },
  {
   "cell_type": "code",
   "execution_count": 5,
   "metadata": {},
   "outputs": [
    {
     "name": "stdout",
     "output_type": "stream",
     "text": [
      "Melancia\n",
      "['Maça', 'Banana', 'Morango', 'Abacaxi']\n",
      "['Banana', 'Morango', 'Abacaxi', 'Melancia', 'Laranja', 'Uva']\n",
      "['Laranja', 'Uva']\n",
      "Uva\n",
      "7\n",
      "['Abacaxi', 'Banana', 'Laranja', 'Maça', 'Melancia', 'Morango', 'Uva']\n",
      "['Uva', 'Morango', 'Melancia', 'Maça', 'Laranja', 'Banana', 'Abacaxi']\n"
     ]
    }
   ],
   "source": [
    "frutas =  ['Maça', 'Banana', 'Morango', 'Abacaxi', 'Melancia', 'Laranja', 'Uva']\n",
    "print(frutas[4])   #Posição específica \n",
    "print(frutas[0:4])  #Da posição 0 pegar 4 itens \n",
    "print(frutas[1:])   #Da posição 1 até o último\n",
    "print(frutas[-2:])  #Nr dos itens do fim pro início\n",
    "print(frutas[-1])   #Ultimo item da lista \n",
    "print(len(frutas))  #Total de itens da lista \n",
    "\n",
    "frutas.sort() # Ordenando lista em ordem crescente \n",
    "print(frutas)\n",
    "frutas.reverse() # Ordenando lista em ordem decrescente \n",
    "print(frutas) "
   ]
  },
  {
   "cell_type": "markdown",
   "metadata": {},
   "source": [
    "Aula 04/4/2024 - Interação em listas "
   ]
  },
  {
   "cell_type": "code",
   "execution_count": 3,
   "metadata": {},
   "outputs": [
    {
     "name": "stdout",
     "output_type": "stream",
     "text": [
      "b é uma consoante\n"
     ]
    }
   ],
   "source": [
    "# Criando uma lista de vogais \n",
    "vogais = ['a', 'e', 'i', 'o', 'u']\n",
    "consoantes = ['b', 'c', 'd', 'f', 'g', 'h', 'j', 'k', 'l', 'm', 'n', 'p', 'q', 'r', 's', 't', 'v', 'w', 'x', 'y', 'z']\n",
    "#recebendo um caractere digitado pelo usuário \n",
    "letra = input('Informe um caractere')\n",
    "# o método .lower() deixa todos as letras digitadas minúsculas \n",
    "# o método .upper() deixa todas as letras digitadas maiúsculas \n",
    "# lemos da seguinte forma: \n",
    "# SE a letra MINÚSCULA ESTIVER na lista de vogais ENTÃO\n",
    "if letra.lower() in vogais :\n",
    "    print (f'{letra} é uma vogal')\n",
    "elif letra.lower () in consoantes : \n",
    "    print(f'{letra} é uma consoante')\n",
    "else:\n",
    "    print(f'{letra} não é uma letra')"
   ]
  },
  {
   "cell_type": "code",
   "execution_count": 7,
   "metadata": {},
   "outputs": [
    {
     "name": "stdout",
     "output_type": "stream",
     "text": [
      "Pelé\n",
      "Maradona\n",
      "Messi\n",
      "Cristiano Ronaldo\n"
     ]
    }
   ],
   "source": [
    "listaNomes = ['Pelé', 'Maradona', 'Messi', 'Cristiano Ronaldo']\n",
    "for nome in listaNomes :\n",
    "    print(nome)"
   ]
  },
  {
   "cell_type": "code",
   "execution_count": 5,
   "metadata": {},
   "outputs": [
    {
     "name": "stdout",
     "output_type": "stream",
     "text": [
      "26\n"
     ]
    }
   ],
   "source": [
    "listaNrs = [4,6,2,5,9]\n",
    "soma = 0\n",
    "for nr in listaNrs :\n",
    "    soma = soma + nr\n",
    "print(soma)"
   ]
  },
  {
   "cell_type": "code",
   "execution_count": 9,
   "metadata": {},
   "outputs": [
    {
     "name": "stdout",
     "output_type": "stream",
     "text": [
      "A fruta maça está na posição 0\n",
      "A fruta banana está na posição 1\n",
      "A fruta abacaxi está na posição 2\n",
      "A fruta uva está na posição 3\n"
     ]
    }
   ],
   "source": [
    "listaFrutas = ['maça', 'banana', 'abacaxi', 'uva']\n",
    "for pos, fruta in enumerate(listaFrutas):\n",
    "    print(f'A fruta {fruta} está na posição {pos}')"
   ]
  },
  {
   "cell_type": "code",
   "execution_count": 10,
   "metadata": {},
   "outputs": [
    {
     "name": "stdout",
     "output_type": "stream",
     "text": [
      "Celular\n",
      " Notebook\n",
      " TV\n",
      " Tablet\n",
      " Headset\n"
     ]
    }
   ],
   "source": [
    "produtos = 'Celular, Notebook, TV, Tablet, Headset'\n",
    "listaProdutos = produtos .split(',')\n",
    "for produto in listaProdutos :\n",
    "    print(produto)"
   ]
  },
  {
   "cell_type": "code",
   "execution_count": 11,
   "metadata": {},
   "outputs": [
    {
     "name": "stdout",
     "output_type": "stream",
     "text": [
      "S\n",
      "S\n",
      "I\n",
      "E\n",
      "S\n",
      "I\n",
      "N\n",
      "S\n",
      "I\n",
      "A\n",
      "S\n",
      "I\n",
      "I\n",
      "S\n",
      "I\n"
     ]
    }
   ],
   "source": [
    "palavra = 'SENAI'\n",
    "for letra in palavra : \n",
    "    print(letra)\n",
    "    print(palavra[0])\n",
    "    print(palavra[-1])"
   ]
  },
  {
   "cell_type": "code",
   "execution_count": 5,
   "metadata": {},
   "outputs": [
    {
     "name": "stdout",
     "output_type": "stream",
     "text": [
      "1° churrasco\n",
      "2° lanche\n",
      "3° pizza\n",
      "churrasco\n"
     ]
    }
   ],
   "source": [
    "#Criando uma lista vazia \n",
    "listaComidas = []\n",
    "#Laço de repetição sem um nr de execução definida \n",
    "while True :\n",
    "    # Recebendo informação do usuário e armazenando em uma variável \n",
    "    comida = input('Digite uma comida que você mais gosta:')\n",
    "    # Inserindo o valor da variável no final da nossa lista \n",
    "    listaComidas.append(comida)\n",
    "    #Obtendo a resposta do usuário se deseja continuar \n",
    "    resp = input('Deseja continuar? [S/N]')\n",
    "    #Verificando condição da resposta dele, se for N ou n sair do laço \n",
    "    if resp in 'Nn':\n",
    "        #Parando o laço de repetição while \n",
    "        break \n",
    "    \n",
    "#Fora do  while - após finalizar sua execução e encontrar o break \n",
    "#Lalo de repetição para exibir os itens e suas posições \n",
    "for pos, comida in enumerate(listaComidas):\n",
    "    #Exibindo as variáveis de cada item da lista \n",
    "    print(f'{pos+1}° {comida}')\n",
    "\n",
    "print(listaComidas [0])"
   ]
  },
  {
   "cell_type": "markdown",
   "metadata": {},
   "source": [
    "Aula  11/04/2024 - Funções "
   ]
  },
  {
   "cell_type": "code",
   "execution_count": 4,
   "metadata": {},
   "outputs": [
    {
     "name": "stdout",
     "output_type": "stream",
     "text": [
      "--------------------\n",
      "SESI / SENAI\n",
      "--------------------\n"
     ]
    }
   ],
   "source": [
    "print('-' * 20)\n",
    "print ('SESI / SENAI')\n",
    "print('-' * 20)"
   ]
  },
  {
   "cell_type": "code",
   "execution_count": 5,
   "metadata": {},
   "outputs": [
    {
     "name": "stdout",
     "output_type": "stream",
     "text": [
      "$$$$$$$$$$$$$$$$$$$$$$$$$$$$$$$$$$$$$$$$\n",
      "####################\n",
      "SESI / SENAI\n",
      "$$$$$$$$$$$$$$$$$$$$$$$$$$$$$$$$$$$$$$$$\n",
      "####################\n"
     ]
    }
   ],
   "source": [
    "def Linha() :\n",
    "    print('$' * 40)\n",
    "    print('#' * 20)\n",
    "    \n",
    "Linha()\n",
    "print ('SESI / SENAI')\n",
    "Linha()"
   ]
  },
  {
   "cell_type": "code",
   "execution_count": 1,
   "metadata": {},
   "outputs": [
    {
     "name": "stdout",
     "output_type": "stream",
     "text": [
      "--------------------\n",
      "SESI/SENAI\n",
      "--------------------\n",
      "--------------------\n",
      "SESI/SENAI\n",
      "--------------------\n",
      "--------------------\n",
      "SESI/SENAI\n",
      "--------------------\n"
     ]
    }
   ],
   "source": [
    "def Linha () :\n",
    "    print('-' * 20)\n",
    "\n",
    "def Cabecalho () :\n",
    "    Linha()\n",
    "    print( 'SESI/SENAI')\n",
    "    Linha()\n",
    "    \n",
    "Cabecalho ()\n",
    "Cabecalho ()\n",
    "Cabecalho ()"
   ]
  },
  {
   "cell_type": "code",
   "execution_count": 2,
   "metadata": {},
   "outputs": [
    {
     "name": "stdout",
     "output_type": "stream",
     "text": [
      "Laiza tenha um bom dia\n",
      "Laiza tenha um bom dia\n",
      "Laiza tenha um bom dia\n"
     ]
    }
   ],
   "source": [
    "def Saudacao () :\n",
    "    \n",
    "    \n",
    "    nome = input('Qual seu nome?')\n",
    "    print (f'{nome} tenha um bom dia')\n",
    "    \n",
    "Saudacao ()\n",
    "Saudacao ()\n",
    "Saudacao ()"
   ]
  },
  {
   "cell_type": "code",
   "execution_count": 3,
   "metadata": {},
   "outputs": [
    {
     "name": "stdout",
     "output_type": "stream",
     "text": [
      "--------------------\n",
      "SESI\n",
      "--------------------\n",
      "--------------------\n",
      "SENAI\n",
      "--------------------\n",
      "--------------------\n",
      "ESCOLA\n",
      "--------------------\n"
     ]
    }
   ],
   "source": [
    "def Cabecalho(texto) :\n",
    "    Linha()\n",
    "    print(texto)\n",
    "    Linha()\n",
    "    \n",
    "Cabecalho('SESI')\n",
    "Cabecalho('SENAI')\n",
    "Cabecalho('ESCOLA')"
   ]
  },
  {
   "cell_type": "code",
   "execution_count": 4,
   "metadata": {},
   "outputs": [
    {
     "name": "stdout",
     "output_type": "stream",
     "text": [
      "A soma de 10 + 5 é 15\n",
      "A soma de 4598632145 + 21469876 é 4620102021\n",
      "A soma de 79 + 80 é 159\n"
     ]
    }
   ],
   "source": [
    "def Soma (n1, n2) :\n",
    "    res = n1 +  n2\n",
    "    print(f'A soma de {n1} + {n2} é {res}')\n",
    "    \n",
    "Soma(10,5)\n",
    "Soma(4598632145,21469876)\n",
    "Soma(79,80)"
   ]
  },
  {
   "cell_type": "code",
   "execution_count": 9,
   "metadata": {},
   "outputs": [
    {
     "name": "stdout",
     "output_type": "stream",
     "text": [
      "é par\n"
     ]
    }
   ],
   "source": [
    "def parimpar(n1) :\n",
    "    if n1%2==0:\n",
    "        print('é par')\n",
    "    else :\n",
    "        print('é impar')\n",
    "    \n",
    "parimpar(int(input('Digite seu número')))"
   ]
  },
  {
   "cell_type": "code",
   "execution_count": 11,
   "metadata": {},
   "outputs": [
    {
     "name": "stdout",
     "output_type": "stream",
     "text": [
      "9.0\n",
      "6.0\n"
     ]
    }
   ],
   "source": [
    "def Media(n1, n2) :\n",
    "    res = (n1 + n2) / 2\n",
    "    return(res)\n",
    "\n",
    "# A variável resultado_media recebe retorno da função Media \n",
    "resultado_media = Media(10,8)\n",
    "print(resultado_media)\n",
    "print(Media(10,2))"
   ]
  },
  {
   "cell_type": "code",
   "execution_count": 14,
   "metadata": {},
   "outputs": [
    {
     "name": "stdout",
     "output_type": "stream",
     "text": [
      "25/ 12/ 1987\n",
      "25/ 10/ 2007\n"
     ]
    }
   ],
   "source": [
    "def formatarData(d, m, a):\n",
    "    data = f'{d}/ {m}/ {a}'\n",
    "    return (data)\n",
    "\n",
    "print (formatarData(25, 12, 1987))\n",
    "print(formatarData (25, 10, 2007))"
   ]
  },
  {
   "cell_type": "markdown",
   "metadata": {},
   "source": [
    "12/04/2024 - Escopo de Variáveis (Variável local e global)"
   ]
  },
  {
   "cell_type": "code",
   "execution_count": 1,
   "metadata": {},
   "outputs": [
    {
     "name": "stdout",
     "output_type": "stream",
     "text": [
      "Valor ANTES da função SENAI\n",
      "Valor dentro da função SESI\n",
      "Valor DEPOIS da função SENAI\n"
     ]
    }
   ],
   "source": [
    "def NomeEscola () :\n",
    "    escola = 'SESI' \n",
    "    print(f'Valor dentro da função {escola}') \n",
    "\n",
    "escola = 'SENAI'\n",
    "print(f'Valor ANTES da função {escola}')    \n",
    "NomeEscola()\n",
    "print(f'Valor DEPOIS da função {escola}')"
   ]
  },
  {
   "cell_type": "code",
   "execution_count": 2,
   "metadata": {},
   "outputs": [
    {
     "name": "stdout",
     "output_type": "stream",
     "text": [
      "SENAI\n"
     ]
    }
   ],
   "source": [
    "def NomeEscola(): \n",
    "    # Caso eu queira atualizar o conteúdo da variável escola\n",
    "    # Preciso escrever que ela é global\n",
    "    print(escola)\n",
    "\n",
    "\n",
    "escola = 'SENAI'\n",
    "print(escola)"
   ]
  },
  {
   "cell_type": "code",
   "execution_count": 3,
   "metadata": {},
   "outputs": [
    {
     "name": "stdout",
     "output_type": "stream",
     "text": [
      "fora da função 10\n",
      "Dentro da função 11\n",
      "fora da função\n"
     ]
    }
   ],
   "source": [
    "x = 10 # x é uma variável global \n",
    "# Podemos acessar x fora de uma função também \n",
    "print('fora da função', x)\n",
    "\n",
    "def minhaFunção (): \n",
    "    global x #Dizendo que usaremos a variável x global\n",
    "    x = x + 1\n",
    "    print('Dentro da função', x)\n",
    "    \n",
    "minhaFunção ()\n",
    "print('fora da função')"
   ]
  }
 ],
 "metadata": {
  "kernelspec": {
   "display_name": "Python 3",
   "language": "python",
   "name": "python3"
  },
  "language_info": {
   "codemirror_mode": {
    "name": "ipython",
    "version": 3
   },
   "file_extension": ".py",
   "mimetype": "text/x-python",
   "name": "python",
   "nbconvert_exporter": "python",
   "pygments_lexer": "ipython3",
   "version": "3.11.9"
  }
 },
 "nbformat": 4,
 "nbformat_minor": 2
}
