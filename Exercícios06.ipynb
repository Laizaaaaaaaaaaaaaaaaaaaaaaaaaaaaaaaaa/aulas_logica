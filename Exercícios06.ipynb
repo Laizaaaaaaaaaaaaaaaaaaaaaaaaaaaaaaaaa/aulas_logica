{
 "cells": [
  {
   "cell_type": "markdown",
   "metadata": {},
   "source": [
    "Exercícios - 22/03/2024"
   ]
  },
  {
   "cell_type": "code",
   "execution_count": null,
   "metadata": {},
   "outputs": [],
   "source": [
    "1. Utilizando o comando For, exiba todos os números ímpares, de 1 a 40"
   ]
  },
  {
   "cell_type": "code",
   "execution_count": 1,
   "metadata": {},
   "outputs": [
    {
     "name": "stdout",
     "output_type": "stream",
     "text": [
      "1\n",
      "3\n",
      "5\n",
      "7\n",
      "9\n",
      "11\n",
      "13\n",
      "15\n",
      "17\n",
      "19\n",
      "21\n",
      "23\n",
      "25\n",
      "27\n",
      "29\n",
      "31\n",
      "33\n",
      "35\n",
      "37\n",
      "39\n"
     ]
    }
   ],
   "source": [
    "for x in range (1, 40, 2) :\n",
    "    print(x)"
   ]
  },
  {
   "cell_type": "code",
   "execution_count": null,
   "metadata": {},
   "outputs": [],
   "source": [
    "2. Gere os 6 números do sorteio da mega-sena de forma aleatória."
   ]
  },
  {
   "cell_type": "code",
   "execution_count": 1,
   "metadata": {},
   "outputs": [
    {
     "name": "stdout",
     "output_type": "stream",
     "text": [
      "1\n",
      "38\n",
      "9\n",
      "34\n",
      "52\n",
      "15\n",
      "37\n"
     ]
    }
   ],
   "source": [
    "import random\n",
    "for x in range(7): \n",
    "  numero=random.randint (1,60)\n",
    "  print(numero)"
   ]
  },
  {
   "cell_type": "code",
   "execution_count": null,
   "metadata": {},
   "outputs": [],
   "source": [
    "3. Receba 5 números e verifique a soma e a quantidade de todos os pares e ímpares digitados"
   ]
  },
  {
   "cell_type": "code",
   "execution_count": 2,
   "metadata": {},
   "outputs": [
    {
     "name": "stdout",
     "output_type": "stream",
     "text": [
      "a soma é 10 sao 2 pares e 2 impares\n"
     ]
    }
   ],
   "source": [
    "soma=0\n",
    "quant2=0\n",
    "quant3=0\n",
    "for nr in range (5): \n",
    "\n",
    "    if nr==0:\n",
    "        break \n",
    "    if nr %2 ==0 :\n",
    "        quant2+=1\n",
    "    if nr%2!=0:\n",
    "        quant3+=1\n",
    "    soma+=nr\n",
    "\n",
    "print(f\"a soma é {soma} sao {quant2} pares e {quant3} impares\") \n"
   ]
  },
  {
   "cell_type": "code",
   "execution_count": null,
   "metadata": {},
   "outputs": [],
   "source": [
    "4. Solicite os parâmetros de início, fim e passo para o laço de repetição usando a função range()\n",
    "e exiba o valor atual da variável de controle a cada iteração. range( x , y , z )"
   ]
  },
  {
   "cell_type": "code",
   "execution_count": 3,
   "metadata": {},
   "outputs": [
    {
     "name": "stdout",
     "output_type": "stream",
     "text": [
      "10\n",
      "15\n"
     ]
    }
   ],
   "source": [
    "inicio = int(input('Digite o valor inicial'))\n",
    "fim = int(input('Digite o valor final'))\n",
    "passo = int(input('Digite o passo'))\n",
    "for x in range(inicio, fim, passo):\n",
    "    print(x)\n"
   ]
  },
  {
   "cell_type": "code",
   "execution_count": null,
   "metadata": {},
   "outputs": [],
   "source": [
    "5. Ler do teclado a idade e o sexo de 10 pessoas, calcule e imprima:\n",
    "• idade média das mulheres\n",
    "• idade média dos homens\n",
    "• idade média do grupo"
   ]
  },
  {
   "cell_type": "code",
   "execution_count": 4,
   "metadata": {},
   "outputs": [],
   "source": [
    "soma_mulheres = 0\n",
    "soma_homens = 0\n",
    "qtde_mulheres = 0\n",
    "qtde_homens = 0\n",
    "for x in range(5) :\n",
    "    idade = int(input('Digite a idade: '))\n",
    "    sexo = input('Digite o sexo: [F/M]')\n",
    "    if sexo == 'F' :\n",
    "        soma_mulheres = soma_mulheres + idade \n",
    "        qtde_mulheres = qtde_mulheres + 1\n",
    "    else: \n",
    "        soma_homens = soma_homens + idade \n",
    "        qtde_homens = qtde_homens + 1 \n",
    "print(f'Media das mulheres {soma_mulheres / qtde_mulheres}')\n",
    "print(f'Media dos homens {soma_homens / qtde_homens}')\n",
    "print(f'Media grupo {(soma_homens+soma_mulheres) / (qtde_homens+qtde_mulheres)}')"
   ]
  },
  {
   "cell_type": "code",
   "execution_count": null,
   "metadata": {},
   "outputs": [],
   "source": [
    "6. Escreva um programa que mostre todos os números entre 5 e 100 que são divisíveis por 7. Os\n",
    "números obtidos devem ser impressos em sequência."
   ]
  },
  {
   "cell_type": "code",
   "execution_count": 1,
   "metadata": {},
   "outputs": [
    {
     "name": "stdout",
     "output_type": "stream",
     "text": [
      "7\n",
      "14\n",
      "21\n",
      "28\n",
      "35\n",
      "42\n",
      "49\n",
      "56\n",
      "63\n",
      "70\n",
      "77\n",
      "84\n",
      "91\n",
      "98\n"
     ]
    }
   ],
   "source": [
    "for nr in range (5,100) :\n",
    "    if nr % 7 == 0 : \n",
    "        print(nr)"
   ]
  },
  {
   "cell_type": "code",
   "execution_count": null,
   "metadata": {},
   "outputs": [],
   "source": [
    "7. Escreva um programa em Python que receba uma string do usuário e mostre de trás para\n",
    "frente."
   ]
  },
  {
   "cell_type": "code",
   "execution_count": 5,
   "metadata": {},
   "outputs": [
    {
     "name": "stdout",
     "output_type": "stream",
     "text": [
      "auga\n"
     ]
    }
   ],
   "source": [
    "palavra = input('Digite uma palavra:')\n",
    "nova_palavra = ''\n",
    "for letra in palavra : \n",
    "    nova_palavra = letra + nova_palavra \n",
    "    \n",
    "print(nova_palavra)"
   ]
  }
 ],
 "metadata": {
  "kernelspec": {
   "display_name": "Python 3",
   "language": "python",
   "name": "python3"
  },
  "language_info": {
   "codemirror_mode": {
    "name": "ipython",
    "version": 3
   },
   "file_extension": ".py",
   "mimetype": "text/x-python",
   "name": "python",
   "nbconvert_exporter": "python",
   "pygments_lexer": "ipython3",
   "version": "3.11.9"
  }
 },
 "nbformat": 4,
 "nbformat_minor": 2
}
