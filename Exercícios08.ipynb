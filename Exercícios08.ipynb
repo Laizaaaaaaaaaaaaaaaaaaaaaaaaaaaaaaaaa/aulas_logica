{
 "cells": [
  {
   "cell_type": "markdown",
   "metadata": {},
   "source": [
    "1- Crie uma lista com os números de 1 a 10 e imprima cada número."
   ]
  },
  {
   "cell_type": "code",
   "execution_count": 1,
   "metadata": {},
   "outputs": [
    {
     "name": "stdout",
     "output_type": "stream",
     "text": [
      "1\n",
      "2\n",
      "3\n",
      "4\n",
      "5\n"
     ]
    }
   ],
   "source": [
    "listaNrs = [1, 2, 3, 4, 5]\n",
    "for nr in listaNrs: \n",
    "    print(nr)"
   ]
  },
  {
   "cell_type": "code",
   "execution_count": null,
   "metadata": {},
   "outputs": [],
   "source": [
    "2- Crie uma lista com os nomes de três amigos e imprima cada nome."
   ]
  },
  {
   "cell_type": "code",
   "execution_count": 3,
   "metadata": {},
   "outputs": [
    {
     "name": "stdout",
     "output_type": "stream",
     "text": [
      "Lívia\n",
      "Gabriela\n",
      "Mariana\n"
     ]
    }
   ],
   "source": [
    "listaNomes = ['Lívia', 'Gabriela', 'Mariana']\n",
    "for nomes in listaNomes :\n",
    "    print(nomes)"
   ]
  },
  {
   "cell_type": "code",
   "execution_count": null,
   "metadata": {},
   "outputs": [],
   "source": [
    "3- Crie uma lista com os meses do ano e imprima apenas os meses que começam com \"J\"."
   ]
  },
  {
   "cell_type": "code",
   "execution_count": 9,
   "metadata": {},
   "outputs": [],
   "source": [
    "listaMês = ['janeiro', 'fevereiro', 'março', 'abril', 'maio', 'junho', 'julho', 'agosto', 'setembro', 'outubro', 'novembro', 'dezembro']\n",
    "for mês in listaMês:\n",
    "    if mês [0] == 'J' :\n",
    "        print(mês)"
   ]
  },
  {
   "cell_type": "code",
   "execution_count": null,
   "metadata": {},
   "outputs": [],
   "source": [
    "4. Crie uma lista com as palavras \"gato\", \"cachorro\", \"pássaro\" e \"peixe\", e imprima cada palavra\n",
    "em maiúsculas."
   ]
  },
  {
   "cell_type": "code",
   "execution_count": 6,
   "metadata": {},
   "outputs": [
    {
     "name": "stdout",
     "output_type": "stream",
     "text": [
      "gato\n",
      "cachorro\n",
      "pássaro\n",
      "peixe\n"
     ]
    }
   ],
   "source": [
    "listaAnimais = ['gato', 'cachorro', 'pássaro', 'peixe']\n",
    "for animais in listaAnimais:\n",
    "    print(animais)\n",
    "    if animais == 'Maiúscula' :\n",
    "        print('Maiúscula')"
   ]
  },
  {
   "cell_type": "code",
   "execution_count": null,
   "metadata": {},
   "outputs": [],
   "source": [
    "5. Crie uma lista com 5 números aleatórios e exiba o nr e seu dobro."
   ]
  },
  {
   "cell_type": "code",
   "execution_count": 7,
   "metadata": {},
   "outputs": [
    {
     "name": "stdout",
     "output_type": "stream",
     "text": [
      "1\n",
      "dobro é 2\n",
      "2\n",
      "dobro é 4\n",
      "3\n",
      "dobro é 6\n",
      "4\n",
      "dobro é 8\n",
      "5\n",
      "dobro é 10\n"
     ]
    }
   ],
   "source": [
    "listaNrs = [1, 2, 3, 4, 5]\n",
    "for nrs in listaNrs :\n",
    "    print(nrs)\n",
    "    print(f'dobro é {nrs*2}')"
   ]
  },
  {
   "cell_type": "code",
   "execution_count": null,
   "metadata": {},
   "outputs": [],
   "source": [
    "6. Crie uma lista com valores numéricos e encontre o maior e o menor elemento dessa lista."
   ]
  },
  {
   "cell_type": "code",
   "execution_count": 8,
   "metadata": {},
   "outputs": [
    {
     "name": "stdout",
     "output_type": "stream",
     "text": [
      "Lista de valores numéricos: [10, 5, 20, 15, 8]\n",
      "Maior elemento da lista: 20\n",
      "Menor elemento da lista: 5\n"
     ]
    }
   ],
   "source": [
    "lista = [10, 5, 20, 15, 8]\n",
    "\n",
    "maior = lista[0]\n",
    "menor = lista[0]\n",
    "\n",
    "for num in lista:\n",
    "    if num > maior:\n",
    "        maior = num\n",
    "    if num < menor:\n",
    "        menor = num\n",
    "\n",
    "print(\"Lista de valores numéricos:\", lista)\n",
    "print(\"Maior elemento da lista:\", maior)\n",
    "print(\"Menor elemento da lista:\", menor)"
   ]
  },
  {
   "cell_type": "code",
   "execution_count": null,
   "metadata": {},
   "outputs": [],
   "source": [
    "7. Receba uma palavra do usuário e calcule quantas vogais há nesta palavra."
   ]
  },
  {
   "cell_type": "code",
   "execution_count": 10,
   "metadata": {},
   "outputs": [
    {
     "name": "stdout",
     "output_type": "stream",
     "text": [
      "A palavra otorrinolaringologista tem 10 vogais\n"
     ]
    }
   ],
   "source": [
    "palavra = input('Digite uma palavra')\n",
    "vogais = ['a', 'e', 'i', 'o', 'u']\n",
    "qtdeVogais = 0\n",
    "for letra in palavra : \n",
    "    if letra.lower() in vogais :\n",
    "        qtdeVogais = qtdeVogais + 1\n",
    "        \n",
    "print(f'A palavra {palavra} tem {qtdeVogais} vogais')"
   ]
  }
 ],
 "metadata": {
  "kernelspec": {
   "display_name": "Python 3",
   "language": "python",
   "name": "python3"
  },
  "language_info": {
   "codemirror_mode": {
    "name": "ipython",
    "version": 3
   },
   "file_extension": ".py",
   "mimetype": "text/x-python",
   "name": "python",
   "nbconvert_exporter": "python",
   "pygments_lexer": "ipython3",
   "version": "3.11.9"
  }
 },
 "nbformat": 4,
 "nbformat_minor": 2
}
