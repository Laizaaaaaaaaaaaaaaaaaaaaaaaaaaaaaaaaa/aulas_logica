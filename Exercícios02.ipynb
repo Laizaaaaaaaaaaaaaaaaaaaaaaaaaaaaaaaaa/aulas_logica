{
 "cells": [
  {
   "cell_type": "markdown",
   "metadata": {},
   "source": [
    "Só Aprendemos Praticando "
   ]
  },
  {
   "cell_type": "code",
   "execution_count": 2,
   "metadata": {},
   "outputs": [
    {
     "name": "stdout",
     "output_type": "stream",
     "text": [
      "aprovado\n"
     ]
    }
   ],
   "source": [
    "# EXERCÍCIO 1\n",
    "\n",
    "n1 =float(input(\"digite a nota\"))\n",
    "n2 =float(input(\"digite a segunda nota\"))\n",
    "notafinal = (n1 + n2) / 2\n",
    "if notafinal < 7 :\n",
    "    print(\"reprovado\")\n",
    "else:\n",
    "    print(\"aprovado\")"
   ]
  },
  {
   "cell_type": "code",
   "execution_count": 3,
   "metadata": {},
   "outputs": [
    {
     "name": "stdout",
     "output_type": "stream",
     "text": [
      "é menor \n"
     ]
    }
   ],
   "source": [
    "# EXERCÍCIO 2\n",
    "\n",
    "n1 = float(input(\"digite seu numero\"))\n",
    "n2 = float(input(\"digite segundo numero\"))\n",
    "if n1>n2 :\n",
    "    print(\"é maior que n2\")\n",
    "else:\n",
    "    print(\"é menor \")"
   ]
  },
  {
   "cell_type": "code",
   "execution_count": null,
   "metadata": {},
   "outputs": [],
   "source": [
    "# EXERCÍCIO 3\n",
    "\n"
   ]
  }
 ],
 "metadata": {
  "kernelspec": {
   "display_name": "Python 3",
   "language": "python",
   "name": "python3"
  },
  "language_info": {
   "codemirror_mode": {
    "name": "ipython",
    "version": 3
   },
   "file_extension": ".py",
   "mimetype": "text/x-python",
   "name": "python",
   "nbconvert_exporter": "python",
   "pygments_lexer": "ipython3",
   "version": "3.12.2"
  }
 },
 "nbformat": 4,
 "nbformat_minor": 2
}
