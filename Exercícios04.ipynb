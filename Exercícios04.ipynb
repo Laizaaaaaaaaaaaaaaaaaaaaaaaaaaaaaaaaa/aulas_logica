{
 "cells": [
  {
   "cell_type": "markdown",
   "metadata": {},
   "source": [
    "Desafios "
   ]
  },
  {
   "cell_type": "code",
   "execution_count": null,
   "metadata": {},
   "outputs": [],
   "source": [
    "salario = float(input('Digite seu salário'))\n",
    "#Considerando a tabela de IRPF\n",
    "if salario <= 2259:\n",
    "    desconto_irpf = 0\n",
    "elif salario <= 2826.65:\n",
    "    desconto_irpf = salario *0.075\n",
    "elif salario <= 3751.05: \n",
    "    desconto_irpf = salario * 0.15\n",
    "elif salario <= 4664.68:\n",
    "    desconto_irpf = salario * 0.225\n",
    "else:\n",
    "    desconto_irpf = salario * 0.275\n",
    "\n",
    "    #Considerando a tabela do INSS\n",
    "if salario <=1412 :\n",
    "    desconto_inss = salario * 0.075\n",
    "elif salario <= 266.68 :\n",
    "    desconto_inss = salario * 0.09\n",
    "elif salario <= 4000.03 :\n",
    "    desconto_inss = salario * 0.12\n",
    "elif salario <= 7786.02 :\n",
    "    desconto_inss = salario * 0.14\n",
    "else: \n",
    "    desconto_inss = 908.85\n",
    "\n",
    "    salario_liquido = salario - desconto_irpf \n",
    "    print (f'Seu salario liquido será: R$ {salario_liquido: .2f} ')\n",
    "    "
   ]
  }
 ],
 "metadata": {
  "language_info": {
   "name": "python"
  }
 },
 "nbformat": 4,
 "nbformat_minor": 2
}
