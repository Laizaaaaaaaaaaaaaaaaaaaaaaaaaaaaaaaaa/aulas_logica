{
 "cells": [
  {
   "cell_type": "code",
   "execution_count": null,
   "metadata": {},
   "outputs": [],
   "source": [
    "Exercícios "
   ]
  },
  {
   "cell_type": "code",
   "execution_count": 2,
   "metadata": {},
   "outputs": [
    {
     "name": "stdout",
     "output_type": "stream",
     "text": [
      "O número 2 é par\n",
      "O número 4 é par\n",
      "O número 6 é par\n",
      "O número 8 é par\n",
      "O número 10 é par\n",
      "O número 12 é par\n",
      "O número 14 é par\n",
      "O número 16 é par\n",
      "O número 18 é par\n",
      "O número 20 é par\n"
     ]
    }
   ],
   "source": [
    "x = 1 \n",
    "while x <= 20: \n",
    "    if x % 2 == 0 :\n",
    "        print(f'O número {x} é par')\n",
    "    x = x + 1 \n",
    "    "
   ]
  },
  {
   "cell_type": "code",
   "execution_count": 2,
   "metadata": {},
   "outputs": [
    {
     "name": "stdout",
     "output_type": "stream",
     "text": [
      "Você chutou 3. Tente um número  maior 👆 \n",
      "FIM\n",
      "Você chutou 4. Parabéns você acertou 👏👏👏\n",
      "FIM\n"
     ]
    }
   ],
   "source": [
    "\n",
    "import random \n",
    "nrSorteado = random.randint(1, 5)\n",
    "\n",
    "acertou = False \n",
    "while acertou == False:\n",
    "    chute = int(input('💋 Digite um número entre 1 e 5:'))\n",
    "    if chute == nrSorteado : \n",
    "        print (f'Você chutou {chute}. Parabéns você acertou 👏👏👏')\n",
    "        acertou = True \n",
    "    elif chute > nrSorteado :\n",
    "        print (f'Você chutou {chute}. Tente um número  menor 👇')\n",
    "    else: \n",
    "        print (f'Você chutou {chute}. Tente um número  maior 👆 ')\n",
    "        \n",
    "    print('FIM')"
   ]
  },
  {
   "cell_type": "code",
   "execution_count": 3,
   "metadata": {},
   "outputs": [
    {
     "name": "stdout",
     "output_type": "stream",
     "text": [
      " A soma é 0 são 0 pares e 0 ímpares\n"
     ]
    }
   ],
   "source": [
    "soma = 0\n",
    "qtdePar = 0\n",
    "qtdeImpar = 0\n",
    "\n",
    "while True :\n",
    "    nr = int(input('Digite o valor, [0 para encerrar]'))\n",
    "    if nr == 0: \n",
    "        break \n",
    "    if nr % 2 == 0 : \n",
    "        qtdePar += 1  # qtdePar = qtdePar + 1\n",
    "    if nr % 2 == 1 :\n",
    "        qtdePar += 1  # qtdeImpar = qtdeImpar + 1\n",
    "    soma += nr \n",
    "    \n",
    "print( f' A soma é {soma} são {qtdePar} pares e {qtdePar} ímpares')\n",
    "        "
   ]
  },
  {
   "cell_type": "code",
   "execution_count": null,
   "metadata": {},
   "outputs": [],
   "source": [
    "print ('Entregando os notebooks')\n",
    "for nr in range(32) :\n",
    "    nr = nr + 1\n",
    "    nome = input(f'Quem é o nº {nr}?')\n",
    "    presente = input(f'O(a) {nome} veio para a escola? [S/N]')\n",
    "    if presente == 'S' :\n",
    "        print(f'Pegar o notebook {nr}')\n",
    "        print(f'Pegar o mouse {nr}')\n",
    "        print(f'Levar o notebook até o(a) {nome}')\n",
    "    else :\n",
    "        print(f'Não pegar o notebook {nr}')\n",
    "        \n",
    "print('Começar a aula')"
   ]
  },
  {
   "cell_type": "code",
   "execution_count": 1,
   "metadata": {},
   "outputs": [
    {
     "name": "stdout",
     "output_type": "stream",
     "text": [
      "8 x 0 = 0\n",
      "8 x 1 = 8\n",
      "8 x 2 = 16\n",
      "8 x 3 = 24\n",
      "8 x 4 = 32\n",
      "8 x 5 = 40\n",
      "8 x 6 = 48\n",
      "8 x 7 = 56\n",
      "8 x 8 = 64\n",
      "8 x 9 = 72\n",
      "8 x 10 = 80\n"
     ]
    }
   ],
   "source": [
    "n = 8\n",
    "for x in range (11) :\n",
    "    print(f'{n} x {x} = {n*x}')"
   ]
  }
 ],
 "metadata": {
  "kernelspec": {
   "display_name": "Python 3",
   "language": "python",
   "name": "python3"
  },
  "language_info": {
   "codemirror_mode": {
    "name": "ipython",
    "version": 3
   },
   "file_extension": ".py",
   "mimetype": "text/x-python",
   "name": "python",
   "nbconvert_exporter": "python",
   "pygments_lexer": "ipython3",
   "version": "3.11.9"
  }
 },
 "nbformat": 4,
 "nbformat_minor": 2
}
